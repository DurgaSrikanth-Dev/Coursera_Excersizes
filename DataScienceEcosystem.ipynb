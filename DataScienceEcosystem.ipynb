{
 "cells": [
  {
   "cell_type": "markdown",
   "id": "ae9fb419",
   "metadata": {},
   "source": [
    "# Data Science Tools and Ecosystem"
   ]
  },
  {
   "cell_type": "markdown",
   "id": "0e2d9929",
   "metadata": {},
   "source": [
    "In this notebook DataScience Tools and Eco systems are summarized"
   ]
  },
  {
   "cell_type": "markdown",
   "id": "5ecfe95d",
   "metadata": {},
   "source": [
    "Some of the popular languages that Data Scientist use are\n",
    "\n",
    "1. Python\n",
    "2. R\n",
    "3. Scala\n",
    "4. Julia"
   ]
  },
  {
   "cell_type": "markdown",
   "id": "15b09897",
   "metadata": {},
   "source": [
    "Some of the commonly used libraries used by Data Scientists include:\n",
    "\n",
    "1. pandas\n",
    "2. numpy\n",
    "3. tensorflow\n",
    "4. tensorflow.keras\n",
    "5. matplotlib\n",
    "6. scipy"
   ]
  },
  {
   "cell_type": "markdown",
   "id": "380b8534",
   "metadata": {},
   "source": [
    "| Data Science Tools |\n",
    "--------------------------------\n",
    "| Jupyter |\n",
    "| R Studio |\n",
    "| Spyder |\n",
    "| Apache Zepplin |\n",
    "\n"
   ]
  },
  {
   "cell_type": "markdown",
   "id": "226e6f2a",
   "metadata": {},
   "source": [
    "### Below are a few examples of evaluating arithmetic expressions in Python"
   ]
  },
  {
   "cell_type": "code",
   "execution_count": 2,
   "id": "3fc4d3d9",
   "metadata": {},
   "outputs": [
    {
     "data": {
      "text/plain": [
       "17"
      ]
     },
     "execution_count": 2,
     "metadata": {},
     "output_type": "execute_result"
    }
   ],
   "source": [
    "(3*4)+5"
   ]
  },
  {
   "cell_type": "code",
   "execution_count": 3,
   "id": "39e911dd",
   "metadata": {},
   "outputs": [
    {
     "name": "stdout",
     "output_type": "stream",
     "text": [
      "3.3333333333333335\n"
     ]
    }
   ],
   "source": [
    "# Converting minutes to hours by dividing with 60\n",
    "n_min = 200 \n",
    "n_hrs = 200 / 60\n",
    "print(n_hrs)\n"
   ]
  },
  {
   "cell_type": "markdown",
   "id": "8953734e",
   "metadata": {},
   "source": [
    "### **Objectives:**\n",
    "\n",
    "-  List all the open source data science languages\n",
    "-  List all the packages for data science\n",
    "-  List all the open source data science development environment tools\n",
    "-  Explain code asset management tool\n"
   ]
  },
  {
   "cell_type": "markdown",
   "id": "f48dd69b",
   "metadata": {},
   "source": [
    "## Author\n",
    "Durgasrikanth"
   ]
  },
  {
   "cell_type": "code",
   "execution_count": null,
   "id": "dc2496b8",
   "metadata": {},
   "outputs": [],
   "source": []
  }
 ],
 "metadata": {
  "kernelspec": {
   "display_name": "Python 3 (ipykernel)",
   "language": "python",
   "name": "python3"
  },
  "language_info": {
   "codemirror_mode": {
    "name": "ipython",
    "version": 3
   },
   "file_extension": ".py",
   "mimetype": "text/x-python",
   "name": "python",
   "nbconvert_exporter": "python",
   "pygments_lexer": "ipython3",
   "version": "3.11.4"
  }
 },
 "nbformat": 4,
 "nbformat_minor": 5
}
